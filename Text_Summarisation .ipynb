{
  "nbformat": 4,
  "nbformat_minor": 0,
  "metadata": {
    "colab": {
      "name": "Text Summarisation.ipynb",
      "provenance": [],
      "collapsed_sections": []
    },
    "kernelspec": {
      "name": "python3",
      "display_name": "Python 3"
    }
  },
  "cells": [
    {
      "cell_type": "code",
      "metadata": {
        "id": "ObOt_OGYe-H4",
        "colab_type": "code",
        "colab": {}
      },
      "source": [
        "import pandas as pd\n",
        "import re\n",
        "import nltk\n",
        "from nltk.tokenize import RegexpTokenizer\n",
        "from nltk.corpus import stopwords\n",
        "from nltk.tokenize import sent_tokenize,word_tokenize\n",
        "import heapq"
      ],
      "execution_count": 54,
      "outputs": []
    },
    {
      "cell_type": "code",
      "metadata": {
        "id": "qNQxklacfJOU",
        "colab_type": "code",
        "colab": {}
      },
      "source": [
        "data=pd.read_excel(\"/content/TASK.xlsx\")\n"
      ],
      "execution_count": 55,
      "outputs": []
    },
    {
      "cell_type": "code",
      "metadata": {
        "id": "R6D67Vmlg3Pr",
        "colab_type": "code",
        "colab": {
          "base_uri": "https://localhost:8080/",
          "height": 347
        },
        "outputId": "8dde9aa6-8e13-49d3-a527-7fd93ecc584a"
      },
      "source": [
        "print(data.head(n=10))\n",
        "#AS you can there is an extra null column which do not want\n",
        "data.drop(\"TEST DATASET\",axis=1,inplace=True)\n",
        "data.info()\n"
      ],
      "execution_count": 56,
      "outputs": [
        {
          "output_type": "stream",
          "text": [
            "   TEST DATASET                                         Unnamed: 1\n",
            "0           NaN                                       Introduction\n",
            "1           NaN  Acnesol Gel is an antibiotic that fights bacte...\n",
            "2           NaN  Ambrodil Syrup is used for treating various re...\n",
            "3           NaN  Augmentin 625 Duo Tablet is a penicillin-type ...\n",
            "4           NaN  Azithral 500 Tablet is an antibiotic used to t...\n",
            "5           NaN  Alkasol Oral Solution is a medicine used in th...\n",
            "6           NaN  Allegra 120mg Tablet belongs to a group of med...\n",
            "7           NaN  Ascoril LS Syrup is a combination medicine use...\n",
            "8           NaN  Aciloc 150 Tablet is a medicine that reduces t...\n",
            "9           NaN  Avil 25 Tablet is an antiallergic medication u...\n",
            "<class 'pandas.core.frame.DataFrame'>\n",
            "RangeIndex: 1001 entries, 0 to 1000\n",
            "Data columns (total 1 columns):\n",
            " #   Column      Non-Null Count  Dtype \n",
            "---  ------      --------------  ----- \n",
            " 0   Unnamed: 1  1001 non-null   object\n",
            "dtypes: object(1)\n",
            "memory usage: 7.9+ KB\n"
          ],
          "name": "stdout"
        }
      ]
    },
    {
      "cell_type": "code",
      "metadata": {
        "id": "zZI4FHaXg55B",
        "colab_type": "code",
        "colab": {
          "base_uri": "https://localhost:8080/",
          "height": 89
        },
        "outputId": "b970d8b4-ee24-47d4-afab-714f6e4bf018"
      },
      "source": [
        "data=data.values\n",
        "print(data[0])\n",
        "#removing the Introduction row\n",
        "data=data[1:]\n",
        "print(data[:2])"
      ],
      "execution_count": 57,
      "outputs": [
        {
          "output_type": "stream",
          "text": [
            "['Introduction']\n",
            "[['Acnesol Gel is an antibiotic that fights bacteria. It is used to treat acne, which appears as spots or pimples on your face, chest or back. This medicine works by attacking the bacteria that cause these pimples.Acnesol Gel is only meant for external use and should be used as advised by your doctor. You should normally wash and dry the affected area before applying a thin layer of the medicine. It should not be applied to broken or damaged skin. Avoid any contact with your eyes, nose, or mouth. Rinse it off with water if you accidentally get it in these areas. It may take several weeks for your symptoms to improve, but you should keep using this medicine regularly. Do not stop using it as soon as your acne starts to get better. Ask your doctor when you should stop treatment.Common side effects like minor itching, burning, or redness of the skin and oily skin may be seen in some people. These are usually temporary and resolve on their own. Consult your doctor if they bother you or do not go away.It is a safe medicine, but you should inform your doctor if you have any problems with your bowels (intestines). Also, inform the doctor if you have ever had bloody diarrhea caused by taking antibiotics or if you are using any other medicines to treat skin conditions. Consult your doctor about using this medicine if you are pregnant or breastfeeding.']\n",
            " [\"Ambrodil Syrup is used for treating various respiratory tract disorders associated with excessive mucus. It works by thinning and loosens mucus in the nose, windpipe and lungs and make it easier to cough out.Ambrodil Syrup should be taken with food. For better results, it is suggested to take it at the same time every day.\\xa0 The dose and how often you take it depends on what you are taking it for. Your doctor will decide how much you need to improve your symptoms.\\xa0 It is advised not to use it for more than 14 days without doctor consultation.The most common side effects of this medicine include vomiting, nausea, and stomach upset. Talk to your doctor if you are worried about side effects or they would not go away. Generally, it is advised not to take alcohol while on treatment.Before taking this medicine, tell your doctor if you have liver or kidney disease or if you have stomach problems. Your doctor should also know about all other medicines you are taking as many of these may make this medicine less effective or change the way it works. You must take doctor's advice before using this medicine if you are pregnant or breastfeeding.\"]]\n"
          ],
          "name": "stdout"
        }
      ]
    },
    {
      "cell_type": "code",
      "metadata": {
        "id": "xYL8e7Q6g9nL",
        "colab_type": "code",
        "colab": {}
      },
      "source": [
        "print(data.shape)\n",
        "datas=data.reshape((1000,))\n",
        "print(data.shape)\n",
        "#converting the list into a string\n",
        "info=\",\".join(datas)\n",
        "#print(info)"
      ],
      "execution_count": null,
      "outputs": []
    },
    {
      "cell_type": "code",
      "metadata": {
        "id": "0Xlj2jQ_hEBt",
        "colab_type": "code",
        "colab": {}
      },
      "source": [
        "with open(\"info.txt\",'w',encoding=\"utf8\")as f:\n",
        "  f.write(info)"
      ],
      "execution_count": null,
      "outputs": []
    },
    {
      "cell_type": "code",
      "metadata": {
        "id": "uHXJX__ffJIX",
        "colab_type": "code",
        "colab": {}
      },
      "source": [
        "text_path=\"/content/info.txt\"\n",
        "def load_text(filename):\n",
        "    with open(filename,encoding=\"utf8\")as f:\n",
        "        return f.read().lower()\n",
        "text=load_text(text_path)\n",
        "# print(text)\n",
        "        \n",
        "        "
      ],
      "execution_count": null,
      "outputs": []
    },
    {
      "cell_type": "markdown",
      "metadata": {
        "id": "kUgHoa0e9hfP",
        "colab_type": "text"
      },
      "source": [
        "### Convert Paragraphs to Sentences"
      ]
    },
    {
      "cell_type": "code",
      "metadata": {
        "id": "tzg9QjR-noG4",
        "colab_type": "code",
        "colab": {
          "base_uri": "https://localhost:8080/",
          "height": 35
        },
        "outputId": "46bf6f44-e4c3-400e-d0e6-070497e9ea2e"
      },
      "source": [
        "sentence_tokens=nltk.sent_tokenize(text)\n",
        "print(sentence_tokens[0])"
      ],
      "execution_count": null,
      "outputs": [
        {
          "output_type": "stream",
          "text": [
            "acnesol gel is an antibiotic that fights bacteria.\n"
          ],
          "name": "stdout"
        }
      ]
    },
    {
      "cell_type": "markdown",
      "metadata": {
        "id": "0Wp8XaFD9mc2",
        "colab_type": "text"
      },
      "source": [
        "### Text Preprocessing\n",
        "- remove all the special characters, stop words and numbers from all the sentences."
      ]
    },
    {
      "cell_type": "code",
      "metadata": {
        "id": "I4jvl4p0noAb",
        "colab_type": "code",
        "colab": {}
      },
      "source": [
        "# Convert words into tokens\n",
        "word_tokens=nltk.word_tokenize(text)\n",
        "#print(word_tokens)"
      ],
      "execution_count": null,
      "outputs": []
    },
    {
      "cell_type": "code",
      "metadata": {
        "id": "LfwdhMhpnn9c",
        "colab_type": "code",
        "colab": {}
      },
      "source": [
        "#this gives the list of stopwords\n",
        "stopwords=nltk.corpus.stopwords.words('english')"
      ],
      "execution_count": null,
      "outputs": []
    },
    {
      "cell_type": "code",
      "metadata": {
        "id": "g7bC3qPznn6o",
        "colab_type": "code",
        "colab": {}
      },
      "source": [
        "#here we are making dictionary which keeps the record of word frequency and remove stopwords\n",
        "word_freq={}\n",
        "for word in word_tokens:\n",
        "  if word not in stopwords:\n",
        "    if word not in word_freq.keys():\n",
        "      word_freq[word]=1\n",
        "    else:\n",
        "      word_freq[word]+=1"
      ],
      "execution_count": null,
      "outputs": []
    },
    {
      "cell_type": "code",
      "metadata": {
        "id": "GlHFSr1Lnn4T",
        "colab_type": "code",
        "colab": {}
      },
      "source": [
        "print(word_freq)"
      ],
      "execution_count": null,
      "outputs": []
    },
    {
      "cell_type": "code",
      "metadata": {
        "id": "4YUC9Whvnn1n",
        "colab_type": "code",
        "colab": {}
      },
      "source": [
        "#Calculate max frequency word\n",
        "max_freq_word=max(word_freq.values())"
      ],
      "execution_count": null,
      "outputs": []
    },
    {
      "cell_type": "code",
      "metadata": {
        "id": "f7NFbq_gnnya",
        "colab_type": "code",
        "colab": {}
      },
      "source": [
        "#we give the weighted frequency of each word\n",
        "for word in word_freq.keys():\n",
        "  word_freq[word]=(word_freq[word]/max_freq_word)"
      ],
      "execution_count": null,
      "outputs": []
    },
    {
      "cell_type": "code",
      "metadata": {
        "id": "pBxv_NU5puDr",
        "colab_type": "code",
        "colab": {}
      },
      "source": [
        "print(word_freq)"
      ],
      "execution_count": null,
      "outputs": []
    },
    {
      "cell_type": "code",
      "metadata": {
        "id": "nqRRjL2Bp2vZ",
        "colab_type": "code",
        "colab": {}
      },
      "source": [
        "#This function takes the text data and converts it into short summarised form\n",
        "#we make sentence score of each cleaned sentence then using heap get the sentence which has \n",
        "#max score.\n",
        "\n",
        "def text_summary(k):\n",
        "  sent_scores={}\n",
        "\n",
        "  for sent in sentence_tokens:\n",
        "    for word in nltk.word_tokenize(sent.lower()):\n",
        "      if word in word_freq.keys():\n",
        "        if (len(sent.split(' ')))>30:\n",
        "          if sent not in sent_scores.keys():\n",
        "            sent_scores[sent]=word_freq[word]\n",
        "          else:\n",
        "            sent_scores[sent]=word_freq[word]\n",
        "\n",
        "  summary=\"\".join(heapq.nlargest(k,sent_scores,key=sent_scores.get))\n",
        "  return summary\n"
      ],
      "execution_count": null,
      "outputs": []
    },
    {
      "cell_type": "code",
      "metadata": {
        "id": "G658Ndqg0x0j",
        "colab_type": "code",
        "colab": {
          "base_uri": "https://localhost:8080/",
          "height": 72
        },
        "outputId": "bf74efd3-492c-4219-9258-dfa722eee955"
      },
      "source": [
        "k=int(input(\"Enter the size of summary\"))\n",
        "summary=text_summary()\n",
        "print(summary)"
      ],
      "execution_count": null,
      "outputs": [
        {
          "output_type": "stream",
          "text": [
            "Enter the size of summary8\n",
            "consult your doctor if they bother you or do not go away.it is a safe medicine, but you should inform your doctor if you have any problems with your bowels (intestines).you must take doctor's advice before using this medicine if you are pregnant or breastfeeding.,augmentin 625 duo tablet is a penicillin-type of antibiotic that helps your body fight infections caused by bacteria.these are usually mild but let your doctor know if they bother you or will not go away.before taking it, let your doctor know if you are allergic to any antibiotics or have any kidney or liver problems.this medicine is generally regarded as safe to use during pregnancy and breastfeeding if prescribed by a doctor.,azithral 500 tablet is an antibiotic used to treat various types of bacterial infections of the respiratory tract, ear, nose, throat, lungs, skin, and eye in adults and children.it is also effective in typhoid fever and some sexually transmitted diseases like gonorrhea.azithral 500 tablet is a broad-spectrum type of antibiotic effective in killing many types of gram-positive bacteria, some types of gram-negative bacteria and other microorganisms.consult your doctor if you find these side effects worry you or persist for a longer duration.inform your doctor if you have any previous history of allergy or heart problems before taking this medicine.take it regularly and do not stop taking the medicine even if you get better until that doctor tell you it is alright to stop.the most common side effect of this medicine is stomach pain.your doctor may help with ways to reduce or prevent these symptoms by reducing the dose or prescribing an alternative medicine.to make sure the medicine is safe for you, before taking this medicine, let your doctor know all the other medicines you are taking.consult your doctor if any of the side effects persist or worry you.before taking it, tell your doctor if you have any problems with your liver or kidneys or with your heart as antihistamines can cause your heart to beat faster.it usually does not impair your ability to drive, but you should not drive if it makes you feel sleepy or dizzy.,ascoril ls syrup is a combination medicine used in the treatment of cough with mucus.\n"
          ],
          "name": "stdout"
        }
      ]
    }
  ]
}